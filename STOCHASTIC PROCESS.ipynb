{
 "cells": [
  {
   "cell_type": "markdown",
   "id": "8cef7518",
   "metadata": {},
   "source": [
    "# QUESTION ONE\n"
   ]
  },
  {
   "cell_type": "code",
   "execution_count": 27,
   "id": "dfaca1a1",
   "metadata": {},
   "outputs": [
    {
     "name": "stdout",
     "output_type": "stream",
     "text": [
      "transitions_markov: <__main__.MarkovChain object at 0x0000025E8F964E50>\n",
      "Probability of being sick at 2 weeks: 0.34600000000000003\n",
      "Probability of being sick at some point in the next 52 weeks: 0.2567554249929629\n",
      "Probability of remaining healthy for the entire year: 0.7432445750070371\n"
     ]
    }
   ],
   "source": [
    "import numpy as np\n",
    "\n",
    "# Transition matrix for the given Markov chain\n",
    "P = np.array([\n",
    "    [0.98, 0.019, 0.001],  # From Healthy (H) to [H, S, D]\n",
    "    [0.2, 0.75, 0.05],     # From Sick (S) to [H, S, D]\n",
    "    [0.0, 0.0, 1.0]        # From Dead (D) to [H, S, D]\n",
    "])\n",
    "\n",
    "class MarkovChain:\n",
    "    def __init__(self, transition_matrix):\n",
    "        self.transition_matrix = transition_matrix\n",
    "\n",
    "    def step(self, state, steps):\n",
    "        return np.linalg.matrix_power(self.transition_matrix, steps).dot(state)\n",
    "\n",
    "transitions_markov = MarkovChain(P)\n",
    "print(f\"transitions_markov: {transitions_markov}\")\n",
    "\n",
    "initial_state_healthy = np.array([1, 0, 0])\n",
    "\n",
    "# ii) Probability that, given a life is healthy now, the life will be sick at time 2 weeks\n",
    "state_at_2_weeks = transitions_markov.step(initial_state_healthy, 2)\n",
    "prob_sick_at_2_weeks = state_at_2_weeks[1]\n",
    "print(f\"Probability of being sick at 2 weeks: {prob_sick_at_2_weeks}\")\n",
    "\n",
    "# iii) Probability of being sick at some point in the next 52 weeks\n",
    "state_at_52_weeks = transitions_markov.step(initial_state_healthy, 52)\n",
    "prob_sick_at_52_weeks = 1 - state_at_52_weeks[0] - state_at_52_weeks[2]\n",
    "print(f\"Probability of being sick at some point in the next 52 weeks: {prob_sick_at_52_weeks}\")\n",
    "\n",
    "# iv) Probability of remaining healthy for the entire year (52 weeks)\n",
    "prob_healthy_entire_year = state_at_52_weeks[0]\n",
    "print(f\"Probability of remaining healthy for the entire year: {prob_healthy_entire_year}\")\n"
   ]
  },
  {
   "cell_type": "markdown",
   "id": "a610c9bc",
   "metadata": {},
   "source": [
    "# QUESTION TWO"
   ]
  },
  {
   "cell_type": "code",
   "execution_count": 32,
   "id": "0eb90474",
   "metadata": {},
   "outputs": [
    {
     "name": "stdout",
     "output_type": "stream",
     "text": [
      "Transition matrix for q=0.1:\n",
      "[[0.75 0.25 0.  ]\n",
      " [0.1  0.   0.9 ]\n",
      " [0.   0.25 0.75]]\n",
      "Transition matrix for q=0.2:\n",
      "[[0.75 0.25 0.  ]\n",
      " [0.2  0.   0.8 ]\n",
      " [0.   0.25 0.75]]\n",
      "Transition matrix for q=0.30000000000000004:\n",
      "[[0.75 0.25 0.  ]\n",
      " [0.3  0.   0.7 ]\n",
      " [0.   0.25 0.75]]\n",
      "Transition matrix for q=0.4:\n",
      "[[0.75 0.25 0.  ]\n",
      " [0.4  0.   0.6 ]\n",
      " [0.   0.25 0.75]]\n",
      "Transition matrix for q=0.5:\n",
      "[[0.75 0.25 0.  ]\n",
      " [0.5  0.   0.5 ]\n",
      " [0.   0.25 0.75]]\n",
      "Transition matrix for q=0.6:\n",
      "[[0.75 0.25 0.  ]\n",
      " [0.6  0.   0.4 ]\n",
      " [0.   0.25 0.75]]\n",
      "Transition matrix for q=0.7000000000000001:\n",
      "[[0.75 0.25 0.  ]\n",
      " [0.7  0.   0.3 ]\n",
      " [0.   0.25 0.75]]\n",
      "Transition matrix for q=0.8:\n",
      "[[0.75 0.25 0.  ]\n",
      " [0.8  0.   0.2 ]\n",
      " [0.   0.25 0.75]]\n",
      "Transition matrix for q=0.9:\n",
      "[[0.75 0.25 0.  ]\n",
      " [0.9  0.   0.1 ]\n",
      " [0.   0.25 0.75]]\n",
      "stationary_distributions: \n",
      "[[0.08 0.2  0.72]\n",
      " [0.16 0.2  0.64]\n",
      " [0.24 0.2  0.56]\n",
      " [0.32 0.2  0.48]\n",
      " [0.4  0.2  0.4 ]\n",
      " [0.48 0.2  0.32]\n",
      " [0.56 0.2  0.24]\n",
      " [0.64 0.2  0.16]\n",
      " [0.72 0.2  0.08]]\n"
     ]
    },
    {
     "data": {
      "image/png": "[encoded data removed]",
      "text/plain": [
       "<Figure size 432x288 with 1 Axes>"
      ]
     },
     "metadata": {
      "needs_background": "light"
     },
     "output_type": "display_data"
    }
   ],
   "source": [
    "import numpy as np\n",
    "import matplotlib.pyplot as plt\n",
    "\n",
    "# Step 1: Function to generate the transition matrix\n",
    "def generate_transition_matrix(p, q, r):\n",
    "    return np.array([\n",
    "        [p,1-p, 0],\n",
    "        [q, 0, 1-q],\n",
    "        [0, r, 1-r]\n",
    "    ])\n",
    "\n",
    "# Function to calculate the stationary distribution\n",
    "def stationary_distribution(P):\n",
    "    eigvals, eigvecs = np.linalg.eig(P.T)\n",
    "    stationary = eigvecs[:, np.isclose(eigvals, 1)]\n",
    "    stationary = stationary / stationary.sum()\n",
    "    return stationary.real.flatten()\n",
    "\n",
    "p = 0.75\n",
    "r = 0.25\n",
    "\n",
    "qs = np.arange(0.1, 1.0, 0.1)\n",
    "\n",
    "#  Calculate the stationary distribution for each value of q\n",
    "stationary_distributions = []\n",
    "for q in qs:\n",
    "    P = generate_transition_matrix(p, q, r)\n",
    "    print(f\"Transition matrix for q={q}:\")\n",
    "    print(P)\n",
    "    stationary_distributions.append(stationary_distribution(P))\n",
    "\n",
    "stationary_distributions = np.array(stationary_distributions)\n",
    "print(\"stationary_distributions: \")\n",
    "print(stationary_distributions)\n",
    "\n",
    "# Plot the stationary distributions\n",
    "plt.plot(qs, stationary_distributions[:, 0], label='State 1')\n",
    "plt.plot(qs, stationary_distributions[:, 1], label='State 2')\n",
    "plt.plot(qs, stationary_distributions[:, 2], label='State 3')\n",
    "plt.xlabel('q')\n",
    "plt.ylabel('Stationary Distribution')\n",
    "plt.title('Stationary Distributions vs. q')\n",
    "plt.legend()\n",
    "plt.grid(True)\n",
    "plt.show()\n"
   ]
  },
  {
   "cell_type": "markdown",
   "id": "43ebe4b8",
   "metadata": {},
   "source": [
    "# QUESTION THREE"
   ]
  },
  {
   "cell_type": "code",
   "execution_count": 4,
   "id": "4cfc2b35",
   "metadata": {},
   "outputs": [
    {
     "name": "stdout",
     "output_type": "stream",
     "text": [
      "['North', 'South', 'West']\n"
     ]
    }
   ],
   "source": [
    "# State space\n",
    "states = ['North', 'South', 'West']\n",
    "print(states)\n"
   ]
  },
  {
   "cell_type": "code",
   "execution_count": 10,
   "id": "0c97fcee",
   "metadata": {},
   "outputs": [
    {
     "name": "stdout",
     "output_type": "stream",
     "text": [
      "[[0.3 0.3 0.4]\n",
      " [0.4 0.4 0.2]\n",
      " [0.5 0.3 0.2]]\n"
     ]
    }
   ],
   "source": [
    "# Transition matrix\n",
    "import numpy as np\n",
    "transition_matrix = np.array([\n",
    "    [0.30, 0.30, 0.40],  # North to [North, South, West]\n",
    "    [0.40, 0.40, 0.20],  # South to [North, South, West]\n",
    "    [0.50, 0.30, 0.20]   # West to [North, South, West]\n",
    "])\n",
    "print(transition_matrix)\n"
   ]
  },
  {
   "cell_type": "code",
   "execution_count": 28,
   "id": "cbfe221a",
   "metadata": {},
   "outputs": [
    {
     "name": "stdout",
     "output_type": "stream",
     "text": [
      "<__main__.MarkovChain object at 0x0000025E8F96C190>\n"
     ]
    }
   ],
   "source": [
    "# MarkovChain class\n",
    "class MarkovChain:\n",
    "    def __init__(self, states, transition_matrix):\n",
    "        self.states = states\n",
    "        self.transition_matrix = transition_matrix\n",
    "\n",
    "    def step(self, current_state, steps):\n",
    "        state_vector = np.zeros(len(self.states))\n",
    "        state_vector[self.states.index(current_state)] = 1\n",
    "        final_state_vector = np.linalg.matrix_power(self.transition_matrix, steps).dot(state_vector)\n",
    "        return final_state_vector\n",
    "mc = MarkovChain(states, transition_matrix)\n",
    "print(mc)"
   ]
  },
  {
   "cell_type": "code",
   "execution_count": 13,
   "id": "a3935c39",
   "metadata": {},
   "outputs": [
    {
     "data": {
      "image/png": "[encoded data removed]",
      "text/plain": [
       "<Figure size 432x288 with 1 Axes>"
      ]
     },
     "metadata": {},
     "output_type": "display_data"
    }
   ],
   "source": [
    "# Draw transition diagram\n",
    "import networkx as nx\n",
    "import matplotlib.pyplot as plt\n",
    "\n",
    "G = nx.DiGraph()\n",
    "\n",
    "for i, state in enumerate(states):\n",
    "    for j, transition_prob in enumerate(transition_matrix[i]):\n",
    "        G.add_edge(states[i], states[j], weight=transition_prob)\n",
    "\n",
    "pos = nx.spring_layout(G)\n",
    "nx.draw(G, pos, with_labels=True, node_size=3000, node_color=\"skyblue\", font_size=15, font_weight=\"bold\", arrows=True)\n",
    "edge_labels = {(u, v): f\"{d['weight']*100:.1f}%\" for u, v, d in G.edges(data=True)}\n",
    "nx.draw_networkx_edge_labels(G, pos, edge_labels=edge_labels, font_size=12)\n",
    "plt.title(\"Taxi Movement Transition Diagram\")\n",
    "plt.show()\n"
   ]
  },
  {
   "cell_type": "code",
   "execution_count": 14,
   "id": "4bdd4a17",
   "metadata": {},
   "outputs": [
    {
     "name": "stdout",
     "output_type": "stream",
     "text": [
      "Probability of being in North after 2 trips: 0.41000000000000003\n",
      "Probability of being in North after 3 trips: 0.385\n"
     ]
    }
   ],
   "source": [
    "# Probability after two trips\n",
    "prob_north_after_2_trips = mc.step('North', 2)[0]\n",
    "print(f\"Probability of being in North after 2 trips: {prob_north_after_2_trips}\")\n",
    "\n",
    "# Probability after three trips\n",
    "prob_north_after_3_trips = mc.step('North', 3)[0]\n",
    "print(f\"Probability of being in North after 3 trips: {prob_north_after_3_trips}\")\n"
   ]
  },
  {
   "cell_type": "code",
   "execution_count": 15,
   "id": "3cf0d00d",
   "metadata": {},
   "outputs": [
    {
     "name": "stdout",
     "output_type": "stream",
     "text": [
      "Stationary distribution: [0.38888889 0.33333333 0.27777778]\n"
     ]
    }
   ],
   "source": [
    "# Stationary distribution\n",
    "def stationary_distribution(P):\n",
    "    eigvals, eigvecs = np.linalg.eig(P.T)\n",
    "    stationary = eigvecs[:, np.isclose(eigvals, 1)]\n",
    "    stationary = stationary / stationary.sum()\n",
    "    return stationary.real.flatten()\n",
    "\n",
    "stationary = stationary_distribution(transition_matrix)\n",
    "print(f\"Stationary distribution: {stationary}\")\n"
   ]
  },
  {
   "cell_type": "code",
   "execution_count": null,
   "id": "7b26284c",
   "metadata": {},
   "outputs": [],
   "source": []
  }
 ],
 "metadata": {
  "kernelspec": {
   "display_name": "Python 3 (ipykernel)",
   "language": "python",
   "name": "python3"
  },
  "language_info": {
   "codemirror_mode": {
    "name": "ipython",
    "version": 3
   },
   "file_extension": ".py",
   "mimetype": "text/x-python",
   "name": "python",
   "nbconvert_exporter": "python",
   "pygments_lexer": "ipython3",
   "version": "3.9.12"
  }
 },
 "nbformat": 4,
 "nbformat_minor": 5
}
